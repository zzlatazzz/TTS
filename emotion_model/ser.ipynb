{
  "cells": [
    {
      "cell_type": "markdown",
      "metadata": {
        "id": "ZSdjAgdXcraM"
      },
      "source": [
        "# Deep learning for robust dimensional characterisation of affect in speech\n",
        "## Main Notebook\n",
        "\n",
        "Datasets used:\n",
        "\n",
        "*   RAVDESS, CREMA-D, TESS\n",
        "*   See augment_data.ipynb for augmentation methods"
      ]
    },
    {
      "cell_type": "code",
      "execution_count": 1,
      "metadata": {
        "id": "GicI2VMDHTni"
      },
      "outputs": [],
      "source": [
        "import soundfile # read audio files\n",
        "import numpy as np\n",
        "import librosa # extract features\n",
        "import glob\n",
        "import os\n",
        "import pickle # to save model after training\n",
        "import time\n",
        "\n",
        "from torchvision import datasets, transforms\n",
        "from torch.utils.data import DataLoader, TensorDataset\n",
        "import torch.nn.functional as F\n",
        "import torch\n",
        "from torch import nn\n",
        "import torch.optim as optim\n",
        "\n",
        "# if torch.cuda.is_available():\n",
        "#     torch.backends.cudnn.deterministic = True\n",
        "\n",
        "from sklearn.neural_network import MLPRegressor\n",
        "from sklearn import preprocessing, metrics\n",
        "from sklearn.ensemble import RandomForestRegressor\n",
        "from sklearn.model_selection import train_test_split # for splitting training and testing data\n",
        "from sklearn.utils import shuffle\n",
        "\n",
        "import seaborn as sn\n",
        "import pandas as pd\n",
        "\n",
        "import matplotlib.pyplot as plt\n",
        "import matplotlib.patches as mpatches\n",
        "from matplotlib.font_manager import FontProperties\n",
        "%matplotlib inline"
      ]
    },
    {
      "cell_type": "markdown",
      "metadata": {
        "id": "hhWxTtYRFl7f"
      },
      "source": [
        "# Data handling, feature extract"
      ]
    },
    {
      "cell_type": "code",
      "execution_count": 2,
      "metadata": {
        "id": "VpxbBMHPFl7f"
      },
      "outputs": [],
      "source": [
        "#device setting\n",
        "device = torch.device(\"cuda\" if torch.cuda.is_available() else \"cpu\")"
      ]
    },
    {
      "cell_type": "code",
      "execution_count": 3,
      "metadata": {
        "id": "ndQyj81GIfUI"
      },
      "outputs": [],
      "source": [
        "import librosa\n",
        "def extract_feature(filename):\n",
        "    X, sample_rate = librosa.load(filename, sr=None, dtype='float32')\n",
        "    \n",
        "    pre_emphasis = 0.97\n",
        "    X = np.append(X[0], X[1:] - pre_emphasis * X[:-1])\n",
        "    \n",
        "    mfccs = librosa.feature.mfcc(y=X, sr=22050, n_mfcc=40, n_mels=40,\n",
        "                                 power=2.0, window = 'hamming', fmin = 0.,\n",
        "                                 fmax = 8000., hop_length=256,\n",
        "                                 n_fft=1024, win_length=1024, center=True)\n",
        "    return mfccs"
      ]
    },
    {
      "cell_type": "code",
      "execution_count": 4,
      "metadata": {
        "id": "32yHAolXFl7g"
      },
      "outputs": [],
      "source": [
        "# all emotions RAVDESS\n",
        "int2emotion = {\n",
        "    \"01\": \"neutral\",\n",
        "    #\"02\": \"calm\",\n",
        "    \"03\": \"happy\",\n",
        "    \"04\": \"sad\",\n",
        "    \"05\": \"angry\",\n",
        "    \"06\": \"fearful\",\n",
        "    \"07\": \"disgust\",\n",
        "    #\"08\": \"surprised\"\n",
        "}\n",
        "\n",
        "# all emotions CREMA-D\n",
        "cemotion = {\n",
        "    \"NEU\": \"neutral\",\n",
        "    \"HAP\": \"happy\",\n",
        "    \"SAD\": \"sad\",\n",
        "    \"ANG\": \"angry\",\n",
        "    \"FEA\": \"fearful\",\n",
        "    \"DIS\": \"disgust\",\n",
        "}\n",
        "\n",
        "# all emotions TESS\n",
        "tessemotion = {\n",
        "    \"neutral.wav\": \"neutral\",\n",
        "    \"happy.wav\": \"happy\",\n",
        "    \"sad.wav\": \"sad\",\n",
        "    \"angry.wav\": \"angry\",\n",
        "    \"fear.wav\": \"fearful\",\n",
        "    \"disgust.wav\": \"disgust\",\n",
        "    #\"ps.wav\": \"surprised\",\n",
        "}\n",
        "\n",
        "# all emotions SAVEE\n",
        "saveeemotion = {\n",
        "    \"n\": \"neutral\",\n",
        "    \"h\": \"happy\",\n",
        "    \"s\": \"sad\",\n",
        "    \"a\": \"angry\",\n",
        "    \"f\": \"fearful\",\n",
        "    \"d\": \"disgust\",\n",
        "    #\"p\": \"surprised\",\n",
        "}\n",
        "\n",
        "# allow only these emotions from dataset(s)\n",
        "AVAILABLE_EMOTIONS = {\n",
        "    \"neutral\",\n",
        "    #\"calm\", # only included in RAVDESS\n",
        "    \"happy\",\n",
        "    \"sad\",\n",
        "    \"angry\", \n",
        "    \"fearful\",\n",
        "    \"disgust\",\n",
        "    #\"surprised\" # in TESS specifies pleasant surprise\n",
        "}\n",
        "\n",
        "# allow only these emotions from dataset(s) for wild test\n",
        "AVAILABLE_EMOTIONS_TEST = {\n",
        "    \"neutral\",\n",
        "    #\"calm\", # only included in RAVDESS\n",
        "    \"happy\",\n",
        "    \"sad\",\n",
        "    \"angry\", \n",
        "    \"fearful\",\n",
        "    \"disgust\",\n",
        "    #\"surprised\" # in TESS specifies pleasant surprise\n",
        "}\n",
        "\n",
        "# map emotion to dimensional model space\n",
        "circumplex_model = {\n",
        "    \"neutral\":[(0.0, 0.0),\"tab:grey\"],\n",
        "    #\"calm\":[(0.5, -0.7),\"tab:cyan\"], # only included in RAVDESS\n",
        "    \"happy\":[(0.8, 0.1),\"tab:purple\"],\n",
        "    \"sad\":[(-0.8, -0.3),\"tab:blue\"],\n",
        "    \"angry\":[(-0.2, 0.7),\"tab:red\"],\n",
        "    \"fearful\":[(-0.4, 0.7),\"tab:olive\"], \n",
        "    \"disgust\":[(-0.41, 0.6),\"tab:green\"],\n",
        "    #\"surprised\":[(0.3, 0.7),\"tab:orange\"], #circumplex astonished, in TESS specifies pleasant surprise\n",
        "}"
      ]
    },
    {
      "cell_type": "code",
      "source": [
        "# map emotion to dimensional model space\n",
        "circumplex_model = {\n",
        "    \"neutral\":[0.2,\"tab:grey\"],\n",
        "    \"happy\":[0.8,\"tab:purple\"],\n",
        "    \"sad\":[-0.8,\"tab:blue\"],\n",
        "    \"angry\":[-0.1,\"tab:red\"],\n",
        "    \"fearful\":[-0.3,\"tab:olive\"], #circumplex afraid\n",
        "    \"disgust\":[-0.3,\"tab:green\"], #circumplex annoyed\n",
        "}"
      ],
      "metadata": {
        "id": "cpEDkrk2om0w"
      },
      "execution_count": 24,
      "outputs": []
    },
    {
      "cell_type": "code",
      "source": [
        "# import shutil\n",
        "# from google.colab import drive\n",
        "# drive.mount('/content/drive')\n",
        "# shutil.copyfile('/content/drive/MyDrive/data.zip', 'data.zip')\n",
        "# drive.flush_and_unmount()\n",
        "# shutil.unpack_archive('data.zip', 'data')"
      ],
      "metadata": {
        "colab": {
          "base_uri": "https://localhost:8080/"
        },
        "id": "IrS223ZvPeF7",
        "outputId": "ff1b2f1b-f1bb-42e3-bc8e-8bc2db525685"
      },
      "execution_count": 7,
      "outputs": [
        {
          "output_type": "stream",
          "name": "stdout",
          "text": [
            "Mounted at /content/drive\n"
          ]
        }
      ]
    },
    {
      "cell_type": "code",
      "execution_count": 25,
      "metadata": {
        "id": "1Ivlry11IruV",
        "colab": {
          "base_uri": "https://localhost:8080/"
        },
        "outputId": "317993c2-17d5-4334-dca6-bc061f0b82d4"
      },
      "outputs": [
        {
          "output_type": "stream",
          "name": "stdout",
          "text": [
            "384 1056\n",
            "384 1056\n",
            "384 1056\n",
            "2800 0\n",
            "0 7442\n",
            "0 7442\n",
            "0 7442\n",
            "0 7442\n"
          ]
        }
      ],
      "source": [
        "# # load data and extract features\n",
        "X, y = [], []\n",
        "\n",
        "## RAVDESS clean\n",
        "i, j = 0, 0\n",
        "for file in glob.glob(\"data/RAVDESS-noisil/*/*.wav\"):\n",
        "    # get the base name of the audio file\n",
        "    basename = os.path.basename(file)\n",
        "    # get the emotion label\n",
        "    try:\n",
        "        emotion = int2emotion[basename.split(\"-\")[2]]\n",
        "        j += 1\n",
        "    except:\n",
        "        i += 1\n",
        "        continue\n",
        "    # we allow only circumplex model emotions\n",
        "    if emotion not in AVAILABLE_EMOTIONS:\n",
        "        continue\n",
        "    # map coords\n",
        "    circumplex_coord = circumplex_model[emotion][0]\n",
        "    # extract features\n",
        "    features = extract_feature(file)\n",
        "    # add to data\n",
        "    X.append(features)\n",
        "    mul_circumplex_coord = [circumplex_coord] * features.shape[1]\n",
        "    y.extend(mul_circumplex_coord)\n",
        "print(i, j)\n",
        "\n",
        "## RAVDESS augmented\n",
        "# white noise\n",
        "i, j = 0, 0\n",
        "for file in glob.glob(\"data/augment-wn/RAVDESS/*.wav\"):\n",
        "    # get the base name of the audio file\n",
        "    basename = os.path.basename(file)\n",
        "    # get the emotion label\n",
        "    try:\n",
        "        emotion = int2emotion[basename.split(\"-\")[2]]\n",
        "        j += 1\n",
        "    except:\n",
        "        i += 1\n",
        "        continue\n",
        "    # we allow only AVAILABLE_EMOTIONS we set\n",
        "    if emotion not in AVAILABLE_EMOTIONS:\n",
        "        continue\n",
        "    # map coords\n",
        "    circumplex_coord = circumplex_model[emotion][0]\n",
        "    # extract features\n",
        "    features = extract_feature(file)\n",
        "    # add to data\n",
        "    X.append(features)\n",
        "    mul_circumplex_coord = [circumplex_coord] * features.shape[1]\n",
        "    y.extend(mul_circumplex_coord)\n",
        "print(i, j)\n",
        "    \n",
        "# reverb\n",
        "i, j = 0, 0\n",
        "for file in glob.glob(\"data/augment-reverb/RAVDESS/*.wav\"):\n",
        "    # get the base name of the audio file\n",
        "    basename = os.path.basename(file)\n",
        "    # get the emotion label\n",
        "    \n",
        "    try:\n",
        "        emotion = int2emotion[basename.split(\"-\")[2]]\n",
        "        j += 1\n",
        "    except:\n",
        "        i += 1\n",
        "        continue\n",
        "    # we allow only AVAILABLE_EMOTIONS we set\n",
        "    if emotion not in AVAILABLE_EMOTIONS:\n",
        "        continue\n",
        "    # map coords\n",
        "    circumplex_coord = circumplex_model[emotion][0]\n",
        "    # extract features\n",
        "    features = extract_feature(file)\n",
        "    # add to data\n",
        "    X.append(features)\n",
        "    mul_circumplex_coord = [circumplex_coord] * features.shape[1]\n",
        "    y.extend(mul_circumplex_coord)\n",
        "print(i, j)\n",
        "\n",
        "# overdrive\n",
        "i, j = 0, 0\n",
        "for file in glob.glob(\"data/augment-overdrive/RAVDESS/*.wav\"):\n",
        "    # get the base name of the audio file\n",
        "    basename = os.path.basename(file)\n",
        "    # get the emotion label\n",
        "    \n",
        "    try:\n",
        "        emotion = int2emotion[basename.split(\"-\")[2]]\n",
        "        j += 1\n",
        "    except:\n",
        "        i += 1\n",
        "        continue\n",
        "    # we allow only AVAILABLE_EMOTIONS we set\n",
        "    if emotion not in AVAILABLE_EMOTIONS:\n",
        "        continue\n",
        "    # map coords\n",
        "    circumplex_coord = circumplex_model[emotion][0]\n",
        "    # extract features\n",
        "    features = extract_feature(file)\n",
        "    # add to data\n",
        "    X.append(features)\n",
        "    mul_circumplex_coord = [circumplex_coord] * features.shape[1]\n",
        "    y.extend(mul_circumplex_coord)\n",
        "print(i, j)\n",
        "\n",
        "# CREMA-D clean\n",
        "i, j = 0, 0\n",
        "for file in glob.glob(\"data/CREMA-D/*/*.wav\"):\n",
        "    # get the base name of the audio file\n",
        "    basename = os.path.basename(file)\n",
        "    # get the emotion label\n",
        "    \n",
        "    try:\n",
        "        emotion = cemotion[basename.split(\"_\")[2]]\n",
        "        j += 1\n",
        "    except:\n",
        "        i += 1\n",
        "        continue\n",
        "    # we allow only AVAILABLE_EMOTIONS we set\n",
        "    if emotion not in AVAILABLE_EMOTIONS:\n",
        "        continue\n",
        "    # map coords\n",
        "    circumplex_coord = circumplex_model[emotion][0]\n",
        "    # extract features\n",
        "    features = extract_feature(file)\n",
        "    # add to data\n",
        "    X.append(features)\n",
        "    mul_circumplex_coord = [circumplex_coord] * features.shape[1]\n",
        "    y.extend(mul_circumplex_coord)\n",
        "print(i, j)\n",
        "\n",
        "## CREMA-D augmented\n",
        "# white noise\n",
        "i, j = 0, 0\n",
        "for file in glob.glob(\"data/augment-wn/CREMA-D/*.wav\"):\n",
        "    # get the base name of the audio file\n",
        "    basename = os.path.basename(file)\n",
        "    # get the emotion label\n",
        "    \n",
        "    try:\n",
        "        emotion = cemotion[basename.split(\"_\")[2]]\n",
        "        j += 1\n",
        "    except:\n",
        "        i += 1\n",
        "        continue\n",
        "    # we allow only AVAILABLE_EMOTIONS we set\n",
        "    if emotion not in AVAILABLE_EMOTIONS:\n",
        "        continue\n",
        "    # map coords\n",
        "    circumplex_coord = circumplex_model[emotion][0]\n",
        "    # extract features\n",
        "    features = extract_feature(file)\n",
        "    # add to data\n",
        "    X.append(features)\n",
        "    mul_circumplex_coord = [circumplex_coord] * features.shape[1]\n",
        "    y.extend(mul_circumplex_coord)\n",
        "print(i, j)\n",
        "    \n",
        "# reverb\n",
        "i, j = 0, 0\n",
        "for file in glob.glob(\"data/augment-reverb/CREMA-D/*.wav\"):\n",
        "    # get the base name of the audio file\n",
        "    basename = os.path.basename(file)\n",
        "    # get the emotion label\n",
        "    \n",
        "    try:\n",
        "        emotion = cemotion[basename.split(\"_\")[2]]\n",
        "        j += 1\n",
        "    except:\n",
        "        i += 1\n",
        "        continue\n",
        "    # we allow only AVAILABLE_EMOTIONS we set\n",
        "    if emotion not in AVAILABLE_EMOTIONS:\n",
        "        continue\n",
        "    # map coords\n",
        "    circumplex_coord = circumplex_model[emotion][0]\n",
        "    # extract features\n",
        "    features = extract_feature(file)\n",
        "    # add to data\n",
        "    X.append(features)\n",
        "    mul_circumplex_coord = [circumplex_coord] * features.shape[1]\n",
        "    y.extend(mul_circumplex_coord)\n",
        "print(i, j)\n",
        "\n",
        "# overdrive\n",
        "i, j = 0, 0\n",
        "for file in glob.glob(\"data/augment-overdrive/CREMA-D/*.wav\"):\n",
        "    # get the base name of the audio file\n",
        "    basename = os.path.basename(file)\n",
        "    # get the emotion label\n",
        "    \n",
        "    try:\n",
        "        emotion = cemotion[basename.split(\"_\")[2]]\n",
        "        j += 1\n",
        "    except:\n",
        "        i += 1\n",
        "        continue\n",
        "    # we allow only AVAILABLE_EMOTIONS we set\n",
        "    if emotion not in AVAILABLE_EMOTIONS:\n",
        "        continue\n",
        "    # map coords\n",
        "    circumplex_coord = circumplex_model[emotion][0]\n",
        "    # extract features\n",
        "    features = extract_feature(file)\n",
        "    # add to data\n",
        "    X.append(features)\n",
        "    mul_circumplex_coord = [circumplex_coord] * features.shape[1]\n",
        "    y.extend(mul_circumplex_coord)\n",
        "print(i, j)\n",
        "\n",
        "# scale features\n",
        "X = np.transpose(np.concatenate(X, axis=1))\n",
        "X = preprocessing.normalize(X, norm='l2', axis=1, copy=False)\n",
        "y = np.array(y)\n",
        "\n",
        "# train test validation split\n",
        "train_ratio = 0.625\n",
        "validation_ratio = 0.25\n",
        "test_ratio = 0.025\n",
        "\n",
        "X_train, X_test, y_train, y_test = train_test_split(X, y, test_size=1 - train_ratio, random_state=420, stratify=y)\n",
        "X_val, X_test, y_val, y_test = train_test_split(X_test, y_test, test_size=test_ratio/(test_ratio + validation_ratio), random_state=420, stratify=y_test)"
      ]
    },
    {
      "cell_type": "code",
      "execution_count": 26,
      "metadata": {
        "id": "abPwq56KFl7i"
      },
      "outputs": [],
      "source": [
        "# Custom test set load, overwrites\n",
        "Xt, yt = [], []\n",
        "\n",
        "# TESS\n",
        "for file in glob.glob(\"data/TESS/*/*.wav\"):\n",
        "    # get the base name of the audio file\\n\",\n",
        "    basename = os.path.basename(file)\n",
        "    # get the emotion label\\n\",\n",
        "    try:\n",
        "        emotion = tessemotion[basename.split(\"_\")[2]]\n",
        "    except:\n",
        "        continue\n",
        "    # we allow only AVAILABLE_EMOTIONS we set\n",
        "    if emotion not in AVAILABLE_EMOTIONS_TEST:\n",
        "        continue\n",
        "    # map coords\n",
        "    circumplex_coord = circumplex_model[emotion][0]\n",
        "    # extract speech features\n",
        "    features = extract_feature(file)\n",
        "    # add to data\n",
        "    Xt.append(features)\n",
        "    mul_circumplex_coord = [circumplex_coord] * features.shape[1]\n",
        "    yt.extend(mul_circumplex_coord)\n",
        "    \n",
        "# scale features\n",
        "Xt = np.transpose(np.concatenate(Xt, axis=1))\n",
        "Xt = preprocessing.normalize(Xt, norm='l2', axis=1, copy=False)\n",
        "yt = np.array(yt)\n",
        "\n",
        "X_bin, X_wild, y_bin, y_wild = train_test_split(Xt, yt, test_size = 0.2, random_state = 420, stratify=yt)"
      ]
    },
    {
      "cell_type": "markdown",
      "source": [
        "##Statistics"
      ],
      "metadata": {
        "id": "_K-pNNwKMbTt"
      }
    },
    {
      "cell_type": "code",
      "execution_count": null,
      "metadata": {
        "id": "oArGDUS8Fl7j"
      },
      "outputs": [],
      "source": [
        "# number of available samples\n",
        "print(\"[+] Number of data samples:\", X.shape[0])\n",
        "# vector of features extracted \n",
        "print(\"[+] Number of MFCC:\", X_train.shape[1])\n",
        "# number of samples in training data\n",
        "print(\"[+] Number of training samples:\", X_train.shape[0])\n",
        "# number of samples in validation data\n",
        "print(\"[+] Number of validation samples:\", X_val.shape[0])\n",
        "# number of samples in test data\n",
        "print(\"[+] Number of test samples:\", X_test.shape[0])\n",
        "# number of samples in wild data\n",
        "print(\"[+] Number of wild test samples:\", X_wild.shape[0])"
      ]
    },
    {
      "cell_type": "code",
      "execution_count": null,
      "metadata": {
        "id": "7ebdztKLFl7k",
        "outputId": "485331fa-0c3b-4bad-9249-637849d98ac7",
        "colab": {
          "base_uri": "https://localhost:8080/",
          "height": 475
        }
      },
      "outputs": [
        {
          "output_type": "display_data",
          "data": {
            "text/plain": [
              "<Figure size 504x360 with 1 Axes>"
            ],
            "image/png": "[encoded data removed]"
          },
          "metadata": {
            "needs_background": "light"
          }
        },
        {
          "output_type": "stream",
          "name": "stdout",
          "text": [
            "-0.263141    415027\n",
            "-0.585680    387471\n",
            "-0.061090    386145\n",
            "-0.260545    375405\n",
            " 0.980450    350055\n",
            " 0.190007    310672\n",
            "Name: X, dtype: int64\n"
          ]
        }
      ],
      "source": [
        "y_train_df = pd.DataFrame(data=y_train, columns=['X'])\n",
        "y_train_plot = y_train_df['X'].value_counts()\n",
        "\n",
        "barplot_labels = []\n",
        "\n",
        "for coord in y_train_plot.keys():\n",
        "    for key, value in circumplex_model.items():\n",
        "        if coord == value[0]:\n",
        "            barplot_labels.append(key)\n",
        "\n",
        "y_pos = np.arange(len(barplot_labels))\n",
        "\n",
        "plt.figure(figsize=(7,5))\n",
        "plt.style.use('ggplot')\n",
        "\n",
        "plt.bar(y_pos, y_train_plot)\n",
        "\n",
        "plt.xticks(y_pos, barplot_labels)\n",
        "plt.yticks()\n",
        "\n",
        "plt.xlabel(\"Discrete emotion\")\n",
        "plt.ylabel(\"Number of samples\")\n",
        "plt.title(\"Train Data\")\n",
        "plt.show()\n",
        "print(y_train_plot)"
      ]
    },
    {
      "cell_type": "code",
      "execution_count": null,
      "metadata": {
        "id": "INlkS6nVFl7k",
        "outputId": "5fa45f75-50c5-4408-e372-7bffb27f5143",
        "colab": {
          "base_uri": "https://localhost:8080/",
          "height": 475
        }
      },
      "outputs": [
        {
          "output_type": "display_data",
          "data": {
            "text/plain": [
              "<Figure size 504x360 with 1 Axes>"
            ],
            "image/png": "[encoded data removed]"
          },
          "metadata": {}
        },
        {
          "output_type": "stream",
          "name": "stdout",
          "text": [
            "-0.263141    226379\n",
            "-0.585680    211347\n",
            "-0.061090    210625\n",
            "-0.260545    204766\n",
            " 0.980450    190939\n",
            " 0.190007    169458\n",
            "Name: X, dtype: int64\n"
          ]
        }
      ],
      "source": [
        "y_val_df = pd.DataFrame(data=y_val, columns=['X'])\n",
        "y_val_plot = y_val_df['X'].value_counts()\n",
        "\n",
        "barplot_labels = []\n",
        "\n",
        "for coord in y_val_plot.keys():\n",
        "    for key, value in circumplex_model.items():\n",
        "        if coord == value[0]:\n",
        "            barplot_labels.append(key)\n",
        "\n",
        "y_pos = np.arange(len(barplot_labels))\n",
        "\n",
        "plt.figure(figsize=(7,5))\n",
        "plt.style.use('ggplot')\n",
        "\n",
        "plt.bar(y_pos, y_val_plot)\n",
        "\n",
        "plt.xticks(y_pos, barplot_labels)\n",
        "plt.yticks()\n",
        "            \n",
        "plt.xlabel(\"Discrete emotion\")\n",
        "plt.ylabel(\"Number of samples\")\n",
        "plt.title(\"Validation Data\")\n",
        "plt.show()\n",
        "print(y_val_plot)"
      ]
    },
    {
      "cell_type": "code",
      "execution_count": null,
      "metadata": {
        "id": "EhQdDc4eFl7l",
        "outputId": "9b2ef1c6-a2c4-438e-da67-5032185d3f9a",
        "colab": {
          "base_uri": "https://localhost:8080/",
          "height": 475
        }
      },
      "outputs": [
        {
          "output_type": "display_data",
          "data": {
            "text/plain": [
              "<Figure size 504x360 with 1 Axes>"
            ],
            "image/png": "[encoded data removed]"
          },
          "metadata": {}
        },
        {
          "output_type": "stream",
          "name": "stdout",
          "text": [
            "-0.263141    22638\n",
            "-0.585680    21135\n",
            "-0.061090    21062\n",
            "-0.260545    20477\n",
            " 0.980450    19094\n",
            " 0.190007    16946\n",
            "Name: X, dtype: int64\n"
          ]
        }
      ],
      "source": [
        "y_test_df = pd.DataFrame(data=y_test, columns=['X'])\n",
        "y_test_plot = y_test_df['X'].value_counts()\n",
        "\n",
        "barplot_labels = []\n",
        "\n",
        "for coord in y_test_plot.keys():\n",
        "    for key, value in circumplex_model.items():\n",
        "        if coord == value[0]:\n",
        "            barplot_labels.append(key)\n",
        "\n",
        "y_pos = np.arange(len(barplot_labels))\n",
        "\n",
        "plt.figure(figsize=(7,5))\n",
        "plt.style.use('ggplot')\n",
        "\n",
        "plt.bar(y_pos, y_test_plot)\n",
        "\n",
        "plt.xticks(y_pos, barplot_labels)\n",
        "plt.yticks()\n",
        "\n",
        "plt.xlabel(\"Discrete emotion\")\n",
        "plt.ylabel(\"Number of samples\")\n",
        "plt.title(\"Test Data\")\n",
        "plt.show()\n",
        "print(y_test_plot)"
      ]
    },
    {
      "cell_type": "code",
      "execution_count": null,
      "metadata": {
        "id": "LCI6q_ZRFl7l",
        "outputId": "35c9dbb5-75c2-4c89-c6c2-3e72b307a31b",
        "colab": {
          "base_uri": "https://localhost:8080/",
          "height": 475
        }
      },
      "outputs": [
        {
          "output_type": "display_data",
          "data": {
            "text/plain": [
              "<Figure size 504x360 with 1 Axes>"
            ],
            "image/png": "[encoded data removed]"
          },
          "metadata": {}
        },
        {
          "output_type": "stream",
          "name": "stdout",
          "text": [
            "-0.263141    18722\n",
            "-0.585680    18366\n",
            " 0.190007    15715\n",
            " 0.980450    15094\n",
            "-0.061090    14087\n",
            "-0.260545    12778\n",
            "Name: X, dtype: int64\n"
          ]
        }
      ],
      "source": [
        "y_wild_df = pd.DataFrame(data=y_wild, columns=['X'])\n",
        "y_wild_plot = y_wild_df['X'].value_counts()\n",
        "\n",
        "barplot_labels = []\n",
        "\n",
        "for coord in y_wild_plot.keys():\n",
        "    for key, value in circumplex_model.items():\n",
        "        if coord == value[0]:\n",
        "            barplot_labels.append(key)\n",
        "\n",
        "y_pos = np.arange(len(barplot_labels))\n",
        "\n",
        "plt.figure(figsize=(7,5))\n",
        "plt.style.use('ggplot')\n",
        "\n",
        "plt.bar(y_pos, y_wild_plot)\n",
        "\n",
        "plt.xticks(y_pos, barplot_labels)\n",
        "plt.yticks()\n",
        "\n",
        "plt.xlabel(\"Discrete emotion\")\n",
        "plt.ylabel(\"Number of samples\")\n",
        "plt.title(\"Wild Data\")\n",
        "plt.show()\n",
        "print(y_wild_plot)"
      ]
    },
    {
      "cell_type": "markdown",
      "metadata": {
        "id": "Ldk9bbEXFl7l"
      },
      "source": [
        "# MLP PyTorch"
      ]
    },
    {
      "cell_type": "code",
      "execution_count": 27,
      "metadata": {
        "id": "--7wmLQAFl7l"
      },
      "outputs": [],
      "source": [
        "class DataLoader(object):\n",
        "    def __init__(self, x, y, batch_size, shuffle):\n",
        "        self.x = x\n",
        "        self.y = y\n",
        "        self.batch_size = batch_size\n",
        "        self.shuffle = shuffle\n",
        "        self.start_idx = 0\n",
        "        self.data_size = x.shape[0]\n",
        "        if self.shuffle:\n",
        "            self.reset()\n",
        "    \n",
        "    def reset(self):\n",
        "        self.x, self.y = shuffle(self.x, self.y)\n",
        "    \n",
        "    def __iter__(self):\n",
        "        return self\n",
        "    \n",
        "    def __next__(self):\n",
        "        if self.start_idx >= self.data_size:\n",
        "            if self.shuffle:\n",
        "                self.reset()\n",
        "            self.start_idx = 0\n",
        "            raise StopIteration\n",
        "    \n",
        "        batch_x = self.x[self.start_idx:self.start_idx+self.batch_size]\n",
        "        batch_y = self.y[self.start_idx:self.start_idx+self.batch_size]\n",
        "\n",
        "        batch_x = torch.tensor(batch_x, dtype=torch.float, device=device)\n",
        "        batch_y = torch.tensor(batch_y, dtype=torch.float, device=device)\n",
        "\n",
        "        self.start_idx += self.batch_size\n",
        "\n",
        "        return (batch_x, batch_y)"
      ]
    },
    {
      "cell_type": "code",
      "execution_count": 28,
      "metadata": {
        "id": "l74OiQ0wFl7m",
        "outputId": "76592fcf-1fc8-48d2-8dfb-b94e7351023c",
        "colab": {
          "base_uri": "https://localhost:8080/"
        }
      },
      "outputs": [
        {
          "output_type": "stream",
          "name": "stdout",
          "text": [
            "Train Set:\n",
            "Features Dimensions: torch.Size([512, 40])\n",
            "label dimensions: torch.Size([512])\n",
            "Validation Set:\n",
            "Features dimensions: torch.Size([512, 40])\n",
            "Label dimensions: torch.Size([512])\n"
          ]
        }
      ],
      "source": [
        "train_loader = DataLoader(X_train, y_train,\n",
        "                 batch_size=512,\n",
        "                 shuffle=True)\n",
        "\n",
        "val_loader = DataLoader(X_val, y_val,\n",
        "                 batch_size=512,\n",
        "                 shuffle=False)\n",
        "\n",
        "print(\"Train Set:\")\n",
        "# checking the dataset\n",
        "for features, labels in train_loader:  \n",
        "    print('Features Dimensions:', features.shape)\n",
        "    print('label dimensions:', labels.shape)\n",
        "    break\n",
        "    \n",
        "# checking the dataset\n",
        "print(\"Validation Set:\")\n",
        "for features, labels in val_loader:  \n",
        "    print('Features dimensions:', features.shape)\n",
        "    print('Label dimensions:', labels.shape)\n",
        "    break"
      ]
    },
    {
      "cell_type": "code",
      "source": [
        "y_train.shape"
      ],
      "metadata": {
        "colab": {
          "base_uri": "https://localhost:8080/"
        },
        "id": "YZ3AWt-8NnPK",
        "outputId": "770aeba4-3da6-4d7c-a096-39b044e4dd49"
      },
      "execution_count": null,
      "outputs": [
        {
          "output_type": "execute_result",
          "data": {
            "text/plain": [
              "(4349123,)"
            ]
          },
          "metadata": {},
          "execution_count": 15
        }
      ]
    },
    {
      "cell_type": "code",
      "execution_count": 29,
      "metadata": {
        "id": "Tq59eYzAFl7m"
      },
      "outputs": [],
      "source": [
        "#defining model\n",
        "class MLP(nn.Module):\n",
        "    def __init__(self, in_dim, hidden_dim_1, hidden_dim_2, out_dim=1):\n",
        "        super(MLP, self).__init__()\n",
        "        \n",
        "        self.in_dim = in_dim\n",
        "        self.hidden_dim_1 = hidden_dim_1\n",
        "        self.hidden_dim_2 = hidden_dim_2\n",
        "        self.out_dim = out_dim\n",
        "        \n",
        "        ## 1st hidden layer\n",
        "        self.linear_1 = nn.Linear(self.in_dim, self.hidden_dim_1)\n",
        "        self.linear_1.weight.detach().normal_(0.0, 0.1)\n",
        "        self.linear_1.bias.detach().zero_()\n",
        "        self.linear_1_bn = nn.BatchNorm1d(self.hidden_dim_1,momentum=0.6)\n",
        "        \n",
        "        ## 2nd hidden layer\n",
        "        self.linear_2 = nn.Linear(self.hidden_dim_1, self.hidden_dim_2)\n",
        "        self.linear_2.weight.detach().normal_(0.0, 0.1)\n",
        "        self.linear_2.bias.detach().zero_()\n",
        "        self.linear_2_bn = nn.BatchNorm1d(self.hidden_dim_2,momentum=0.6)\n",
        "        \n",
        "        ## Out layer\n",
        "        self.linear_out = nn.Linear(self.hidden_dim_2, self.out_dim)\n",
        "        self.linear_out.weight.detach().normal_(0.0, 0.1)\n",
        "        self.linear_out.bias.detach().zero_()\n",
        "        \n",
        "    def forward(self, x):\n",
        "        out = self.linear_1(x)\n",
        "        out = self.linear_1_bn(out)\n",
        "        out = F.relu(out)\n",
        "        \n",
        "        out = self.linear_2(out)\n",
        "        out = self.linear_2_bn(out)\n",
        "        out = F.relu(out)\n",
        "        out = F.dropout(out, p=0.175, training=self.training)\n",
        "        \n",
        "        out = self.linear_out(out)\n",
        "        out = nn.Tanh()(out)\n",
        "        return out.flatten()"
      ]
    },
    {
      "cell_type": "code",
      "execution_count": 30,
      "metadata": {
        "id": "J1DBSyd4Fl7m"
      },
      "outputs": [],
      "source": [
        "#init model\n",
        "mlp = MLP(40, 260, 180, 1).to(device)\n",
        "optimizer = torch.optim.Adam(mlp.parameters(), lr=5e-5, weight_decay=1e-5)"
      ]
    },
    {
      "cell_type": "code",
      "execution_count": 31,
      "metadata": {
        "id": "JFDE8ByiFl7m",
        "outputId": "ede46a35-3059-4edc-efbf-115dfcddf5d7",
        "colab": {
          "base_uri": "https://localhost:8080/"
        }
      },
      "outputs": [
        {
          "output_type": "stream",
          "name": "stdout",
          "text": [
            "Epoch:1 Batch:8493/8495 Loss:0.2292 Time:0m30.93s\n",
            "0.27145065166902516\n",
            "Valid Loss:0.2345\n",
            "Epoch:2 Batch:8494/8495 Loss:0.2429 Time:0m29.52s\n",
            "0.23600675451748507\n",
            "Valid Loss:0.2321\n",
            "Epoch:3 Batch:8494/8495 Loss:0.2538 Time:0m29.83s\n",
            "0.23266630649145664\n",
            "Valid Loss:0.2308\n",
            "Epoch:4 Batch:8494/8495 Loss:0.1911 Time:0m29.54s\n",
            "0.23146163463557448\n",
            "Valid Loss:0.2304\n",
            "Epoch:5 Batch:8494/8495 Loss:0.2267 Time:0m29.46s\n",
            "0.23063340020958573\n",
            "Valid Loss:0.2294\n",
            "Epoch:6 Batch:8494/8495 Loss:0.2013 Time:0m29.33s\n",
            "0.22995088939774802\n",
            "Valid Loss:0.2286\n",
            "Epoch:7 Batch:8494/8495 Loss:0.2228 Time:0m29.32s\n",
            "0.22940388080861865\n",
            "Valid Loss:0.2283\n",
            "Epoch:8 Batch:8494/8495 Loss:0.2355 Time:0m29.40s\n",
            "0.22888988152962\n",
            "Valid Loss:0.2276\n",
            "Epoch:9 Batch:8494/8495 Loss:0.2504 Time:0m29.74s\n",
            "0.22842182670536287\n",
            "Valid Loss:0.2275\n",
            "Epoch:10 Batch:8494/8495 Loss:0.2385 Time:0m29.59s\n",
            "0.22799181923787687\n",
            "Valid Loss:0.2267\n",
            "Epoch:11 Batch:8494/8495 Loss:0.2011 Time:0m29.57s\n",
            "0.22754187823710126\n",
            "Valid Loss:0.2271\n",
            "Epoch:12 Batch:8494/8495 Loss:0.2184 Time:0m30.34s\n",
            "0.22721911654569177\n",
            "Valid Loss:0.2261\n",
            "Epoch:13 Batch:8494/8495 Loss:0.2301 Time:0m29.13s\n",
            "0.22689201637988515\n",
            "Valid Loss:0.2264\n",
            "Epoch:14 Batch:8494/8495 Loss:0.2667 Time:0m29.32s\n",
            "0.2265067596780054\n",
            "Valid Loss:0.2256\n",
            "Epoch:15 Batch:8494/8495 Loss:0.2404 Time:0m29.14s\n",
            "0.22620482515804624\n",
            "Valid Loss:0.2253\n",
            "Epoch:16 Batch:8494/8495 Loss:0.2714 Time:0m29.44s\n",
            "0.22586968124895113\n",
            "Valid Loss:0.2253\n",
            "Epoch:17 Batch:8494/8495 Loss:0.1848 Time:0m29.79s\n",
            "0.2255797450247058\n",
            "Valid Loss:0.2253\n",
            "Epoch:18 Batch:8494/8495 Loss:0.2323 Time:0m29.58s\n",
            "0.2252602029874649\n",
            "Valid Loss:0.2252\n",
            "Epoch:19 Batch:8494/8495 Loss:0.2201 Time:0m29.23s\n",
            "0.22494641606108873\n",
            "Valid Loss:0.2248\n",
            "Epoch:20 Batch:8494/8495 Loss:0.2149 Time:0m29.43s\n",
            "0.22467973675181965\n",
            "Valid Loss:0.2239\n",
            "Epoch:21 Batch:8494/8495 Loss:0.2196 Time:0m29.83s\n",
            "0.22444879715234972\n",
            "Valid Loss:0.2237\n",
            "Epoch:22 Batch:8494/8495 Loss:0.2071 Time:0m29.85s\n",
            "0.22418248921088993\n",
            "Valid Loss:0.2241\n",
            "Epoch:23 Batch:8494/8495 Loss:0.2247 Time:0m29.72s\n",
            "0.22397759292952238\n",
            "Valid Loss:0.2235\n",
            "Epoch:24 Batch:8494/8495 Loss:0.2302 Time:0m29.15s\n",
            "0.2237091720577827\n",
            "Valid Loss:0.2231\n",
            "Epoch:25 Batch:8494/8495 Loss:0.2521 Time:0m29.52s\n",
            "0.22345115539254407\n",
            "Valid Loss:0.2237\n",
            "Epoch:26 Batch:8494/8495 Loss:0.2338 Time:0m29.47s\n",
            "0.22325132164167893\n",
            "Valid Loss:0.2232\n",
            "Epoch:27 Batch:8494/8495 Loss:0.2739 Time:0m30.26s\n",
            "0.22304614753565977\n",
            "Valid Loss:0.2224\n",
            "Epoch:28 Batch:8494/8495 Loss:0.1961 Time:0m29.89s\n",
            "0.2228333205896802\n",
            "Valid Loss:0.2231\n",
            "Epoch:29 Batch:8494/8495 Loss:0.2440 Time:0m29.80s\n",
            "0.22260660209011654\n",
            "Valid Loss:0.2228\n",
            "Epoch:30 Batch:8494/8495 Loss:0.2381 Time:0m30.40s\n",
            "0.2224015087468123\n",
            "Valid Loss:0.2223\n",
            "Epoch:31 Batch:8494/8495 Loss:0.2285 Time:0m30.15s\n",
            "0.2222201215599901\n",
            "Valid Loss:0.2217\n",
            "Epoch:32 Batch:8494/8495 Loss:0.2132 Time:0m30.23s\n",
            "0.2220167915441486\n",
            "Valid Loss:0.2221\n",
            "Epoch:33 Batch:8494/8495 Loss:0.1929 Time:0m29.45s\n",
            "0.22189004241262483\n",
            "Valid Loss:0.2220\n",
            "Epoch:34 Batch:8494/8495 Loss:0.2459 Time:0m29.46s\n",
            "0.22166131492254662\n",
            "Valid Loss:0.2216\n",
            "Epoch:35 Batch:8494/8495 Loss:0.2397 Time:0m29.88s\n",
            "0.22151057761756723\n",
            "Valid Loss:0.2214\n",
            "Epoch:36 Batch:8494/8495 Loss:0.2177 Time:0m29.71s\n",
            "0.2213456325877618\n",
            "Valid Loss:0.2210\n",
            "Epoch:37 Batch:8494/8495 Loss:0.2205 Time:0m30.41s\n",
            "0.22117407740285075\n",
            "Valid Loss:0.2213\n",
            "Epoch:38 Batch:8494/8495 Loss:0.2629 Time:0m29.61s\n",
            "0.2210137626926923\n",
            "Valid Loss:0.2210\n",
            "Epoch:39 Batch:8494/8495 Loss:0.2129 Time:0m29.51s\n",
            "0.22081942153264664\n",
            "Valid Loss:0.2211\n",
            "Epoch:40 Batch:8494/8495 Loss:0.2345 Time:0m29.83s\n",
            "0.22072445692526305\n",
            "Valid Loss:0.2204\n",
            "Epoch:41 Batch:8494/8495 Loss:0.2213 Time:0m29.53s\n",
            "0.22051286952435234\n",
            "Valid Loss:0.2209\n",
            "Epoch:42 Batch:8494/8495 Loss:0.2624 Time:0m30.41s\n",
            "0.22041641534637746\n",
            "Valid Loss:0.2206\n",
            "Epoch:43 Batch:8494/8495 Loss:0.2135 Time:0m30.07s\n",
            "0.22026324896618785\n",
            "Valid Loss:0.2202\n",
            "Epoch:44 Batch:8494/8495 Loss:0.2061 Time:0m29.64s\n",
            "0.22014336535129356\n",
            "Valid Loss:0.2206\n",
            "Epoch:45 Batch:8494/8495 Loss:0.2164 Time:0m29.88s\n",
            "0.21996655036169616\n",
            "Valid Loss:0.2200\n",
            "Epoch:46 Batch:8494/8495 Loss:0.2450 Time:0m29.94s\n",
            "0.2198663249234721\n",
            "Valid Loss:0.2200\n",
            "Epoch:47 Batch:8494/8495 Loss:0.2265 Time:0m29.99s\n",
            "0.21971673520787313\n",
            "Valid Loss:0.2202\n",
            "Epoch:48 Batch:8494/8495 Loss:0.2048 Time:0m30.20s\n",
            "0.21956121076935525\n",
            "Valid Loss:0.2197\n",
            "Epoch:49 Batch:8494/8495 Loss:0.2151 Time:0m30.28s\n",
            "0.21947291949659745\n",
            "Valid Loss:0.2195\n",
            "Epoch:50 Batch:8494/8495 Loss:0.1883 Time:0m29.79s\n",
            "0.21939726612580532\n",
            "Valid Loss:0.2199\n"
          ]
        }
      ],
      "source": [
        "# training phase\n",
        "epochs = 50\n",
        "\n",
        "# to plot loss curve after training\n",
        "valid_losses = []\n",
        "#losses = []\n",
        "\n",
        "for epoch in range(epochs):\n",
        "    start_time = time.time()\n",
        "    mlp.train()\n",
        "    num_batch = train_loader.data_size // train_loader.batch_size + 1\n",
        "    train_loss_epoch = 0\n",
        "    \n",
        "    for batch_id, (batch_x, batch_y) in enumerate(train_loader):\n",
        "        \n",
        "        y_pred = mlp(batch_x)\n",
        "        loss = F.mse_loss(y_pred, batch_y)\n",
        "\n",
        "        optimizer.zero_grad()\n",
        "        loss.backward()\n",
        "        optimizer.step()\n",
        "\n",
        "        elapsed_time = time.time() - start_time\n",
        "        elapsed_min = int(elapsed_time / 60)\n",
        "        elapsed_sec = elapsed_time - 60 * elapsed_min\n",
        "        \n",
        "        train_loss_epoch += loss.item()\n",
        "\n",
        "        print('\\rEpoch:{} Batch:{}/{} Loss:{:.4f} Time:{}m{:.2f}s'.format(epoch + 1, batch_id, \n",
        "                                                                          num_batch, loss.item(),\n",
        "                                                                          elapsed_min, elapsed_sec), end='')\n",
        "    print()\n",
        "    \n",
        "    train_loss_epoch /= num_batch\n",
        "    print(train_loss_epoch)\n",
        "    #losses.append(train_loss_epoch)\n",
        "    \n",
        "    mlp.eval()\n",
        "    valid_loss = 0\n",
        "    best_loss = np.inf\n",
        "    num_batch = val_loader.data_size // val_loader.batch_size + 1\n",
        "    \n",
        "    for batch_id, (batch_x, batch_y) in enumerate(val_loader):\n",
        "        \n",
        "        y_pred = mlp(batch_x)\n",
        "        loss = F.mse_loss(y_pred, batch_y)\n",
        "        valid_loss += loss.item()\n",
        "    \n",
        "    valid_loss /= num_batch\n",
        "    valid_losses.append(valid_loss)\n",
        "    \n",
        "    #save model when validation loss is minimum\n",
        "    if valid_loss < best_loss:\n",
        "        best_loss = valid_loss\n",
        "        torch.save(mlp.state_dict(), 'mlp.bestmodel') \n",
        "    \n",
        "    print('Valid Loss:{:.4f}'.format(valid_loss))"
      ]
    },
    {
      "cell_type": "code",
      "source": [
        "torch.save(mlp, 'mlp.pth')\n",
        "torch.save(mlp.state_dict(), 'mlp.pt')"
      ],
      "metadata": {
        "id": "ZPDNK1XPLwkL"
      },
      "execution_count": 32,
      "outputs": []
    },
    {
      "cell_type": "code",
      "source": [
        "import shutil\n",
        "from google.colab import drive\n",
        "drive.mount('/content/drive')\n",
        "shutil.copyfile('mlp.pth', '/content/drive/MyDrive/mlp.pth')\n",
        "shutil.copyfile('mlp.pt', '/content/drive/MyDrive/mlp.pt')\n",
        "\n",
        "drive.flush_and_unmount()"
      ],
      "metadata": {
        "colab": {
          "base_uri": "https://localhost:8080/"
        },
        "id": "tz6iqgFrAM0R",
        "outputId": "6bc057e1-8777-4d0e-c674-ac5a3caa500c"
      },
      "execution_count": 33,
      "outputs": [
        {
          "output_type": "stream",
          "name": "stdout",
          "text": [
            "Mounted at /content/drive\n"
          ]
        }
      ]
    },
    {
      "cell_type": "code",
      "source": [
        "mlp = MLP(40, 260, 180, 1).to(device)\n",
        "mlp.load_state_dict(torch.load('mlp.pt'))"
      ],
      "metadata": {
        "colab": {
          "base_uri": "https://localhost:8080/"
        },
        "id": "5OCE7_iyL2Nk",
        "outputId": "59975b35-93a2-48d6-8548-8d72b19014aa"
      },
      "execution_count": 34,
      "outputs": [
        {
          "output_type": "execute_result",
          "data": {
            "text/plain": [
              "<All keys matched successfully>"
            ]
          },
          "metadata": {},
          "execution_count": 34
        }
      ]
    }
  ],
  "metadata": {
    "accelerator": "GPU",
    "colab": {
      "provenance": [],
      "collapsed_sections": [
        "_K-pNNwKMbTt"
      ]
    },
    "kernelspec": {
      "display_name": "Python 3",
      "language": "python",
      "name": "python3"
    },
    "language_info": {
      "codemirror_mode": {
        "name": "ipython",
        "version": 3
      },
      "file_extension": ".py",
      "mimetype": "text/x-python",
      "name": "python",
      "nbconvert_exporter": "python",
      "pygments_lexer": "ipython3",
      "version": "3.7.4"
    },
    "gpuClass": "standard"
  },
  "nbformat": 4,
  "nbformat_minor": 0
}